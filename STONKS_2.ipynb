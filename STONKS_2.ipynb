{
  "nbformat": 4,
  "nbformat_minor": 0,
  "metadata": {
    "colab": {
      "name": "STONKS 2",
      "provenance": [],
      "collapsed_sections": []
    },
    "kernelspec": {
      "name": "python3",
      "display_name": "Python 3"
    },
    "language_info": {
      "name": "python"
    }
  },
  "cells": [
    {
      "cell_type": "code",
      "metadata": {
        "id": "vMeAZvtGpZ9z"
      },
      "source": [
        "#import pandas_datareader as web\n",
        "import numpy as np\n",
        "import pandas as pd\n",
        "import datetime as dt\n",
        "from keras.models import Sequential, Model\n",
        "from keras.layers import Dense, LSTM, Input, Activation, concatenate, Dropout\n",
        "from keras import regularizers \n",
        "from keras import optimizers\n",
        "import math\n",
        "import matplotlib.pyplot as plt\n",
        "import os\n",
        "import urllib.request, json\n",
        "from sklearn.preprocessing import MinMaxScaler\n",
        "from google.colab import drive"
      ],
      "execution_count": null,
      "outputs": []
    },
    {
      "cell_type": "code",
      "metadata": {
        "id": "12_Xv6tI6x7u",
        "colab": {
          "base_uri": "https://localhost:8080/"
        },
        "outputId": "b2cfc464-a09b-485f-a135-84aaeb8bd2e8"
      },
      "source": [
        "from google.colab import drive\n",
        "drive.mount('/content/drive')"
      ],
      "execution_count": null,
      "outputs": [
        {
          "output_type": "stream",
          "text": [
            "Mounted at /content/drive\n"
          ],
          "name": "stdout"
        }
      ]
    },
    {
      "cell_type": "code",
      "metadata": {
        "id": "m43uigpYr8R2",
        "colab": {
          "base_uri": "https://localhost:8080/"
        },
        "outputId": "b59c6f25-e908-41a6-d8ad-217b49450c63"
      },
      "source": [
        "#get the data and prices for a specific stock\n",
        "prices = pd.read_csv('drive/MyDrive/prices.csv')\n",
        "stock = input(\"Enter a stock ticker: \")\n",
        "data = prices.filter(like=stock)"
      ],
      "execution_count": null,
      "outputs": [
        {
          "output_type": "stream",
          "text": [
            "Enter a stock ticker: AAPL\n"
          ],
          "name": "stdout"
        }
      ]
    },
    {
      "cell_type": "code",
      "metadata": {
        "id": "hIL2KJBo2g09",
        "colab": {
          "base_uri": "https://localhost:8080/"
        },
        "outputId": "3092c4b0-f504-45c7-a00d-3574ae1f42ba"
      },
      "source": [
        "#scale the data\n",
        "data=data.values\n",
        "scaler = MinMaxScaler()\n",
        "scaled_data = scaler.fit_transform(data)\n",
        "print(scaled_data)"
      ],
      "execution_count": null,
      "outputs": [
        {
          "output_type": "stream",
          "text": [
            "[[0.00480986]\n",
            " [0.00428017]\n",
            " [0.00436436]\n",
            " ...\n",
            " [0.98666554]\n",
            " [0.97823995]\n",
            " [0.97069359]]\n"
          ],
          "name": "stdout"
        }
      ]
    },
    {
      "cell_type": "code",
      "metadata": {
        "id": "F1nFdgCl3bNb"
      },
      "source": [
        "train = scaled_data"
      ],
      "execution_count": null,
      "outputs": []
    },
    {
      "cell_type": "code",
      "metadata": {
        "id": "5NiuqDYEIH00",
        "colab": {
          "base_uri": "https://localhost:8080/"
        },
        "outputId": "7253e6db-92b1-4f99-9519-d5775b62c07c"
      },
      "source": [
        "#make the x and y train datasets\n",
        "x_train = []\n",
        "y_train = []\n",
        "\n",
        "for i in range(200,len(train)):\n",
        "  x_train.append(train[i-200:i, 0])\n",
        "  y_train.append(train[i, 0])\n",
        "\n",
        "x_train, y_train = np.array(x_train), np.array(y_train)\n",
        "x_train = np.reshape(x_train, (x_train.shape[0], x_train.shape[1], 1))\n",
        "x_train.shape\n"
      ],
      "execution_count": null,
      "outputs": [
        {
          "output_type": "execute_result",
          "data": {
            "text/plain": [
              "(5084, 200, 1)"
            ]
          },
          "metadata": {
            "tags": []
          },
          "execution_count": 70
        }
      ]
    },
    {
      "cell_type": "code",
      "metadata": {
        "id": "mKUU2zS0JkSp"
      },
      "source": [
        "#make the model\n",
        "lstm_input = Input(shape=(x_train.shape[1], 1), name='input_layer')\n",
        "x = LSTM(50, name='lstm_1', return_sequences=False)(lstm_input)\n",
        "x = Dense(60, name='dense_1', bias_regularizer='l2')(x)\n",
        "x = Activation('sigmoid', name='sigmoid')(x)\n",
        "x = Dense(1, name='prices_out')(x)\n",
        "out = Activation('linear', name='linear_out')(x)\n",
        "\n",
        "model = Model(inputs=lstm_input, outputs=out)\n",
        "\n",
        "adam = optimizers.Adam(learning_rate=0.003)\n",
        "\n",
        "model.compile(optimizer=adam, loss='mse')"
      ],
      "execution_count": null,
      "outputs": []
    },
    {
      "cell_type": "code",
      "metadata": {
        "id": "rOuTlnTqMsCS",
        "colab": {
          "base_uri": "https://localhost:8080/"
        },
        "outputId": "fb87d004-1e61-419a-a1df-fb9a41920d91"
      },
      "source": [
        "#train the model\n",
        "history = model.fit(x=x_train, y=y_train, batch_size=50, epochs=50)"
      ],
      "execution_count": null,
      "outputs": [
        {
          "output_type": "stream",
          "text": [
            "Epoch 1/50\n",
            "102/102 [==============================] - 11s 85ms/step - loss: 0.2446\n",
            "Epoch 2/50\n",
            "102/102 [==============================] - 9s 85ms/step - loss: 4.8877e-04\n",
            "Epoch 3/50\n",
            "102/102 [==============================] - 9s 88ms/step - loss: 2.8505e-04\n",
            "Epoch 4/50\n",
            "102/102 [==============================] - 9s 88ms/step - loss: 1.8008e-04\n",
            "Epoch 5/50\n",
            "102/102 [==============================] - 9s 88ms/step - loss: 1.1148e-04\n",
            "Epoch 6/50\n",
            "102/102 [==============================] - 9s 92ms/step - loss: 8.0377e-05\n",
            "Epoch 7/50\n",
            "102/102 [==============================] - 10s 94ms/step - loss: 7.6626e-05\n",
            "Epoch 8/50\n",
            "102/102 [==============================] - 10s 94ms/step - loss: 6.2979e-05\n",
            "Epoch 9/50\n",
            "102/102 [==============================] - 10s 96ms/step - loss: 6.8387e-05\n",
            "Epoch 10/50\n",
            "102/102 [==============================] - 9s 91ms/step - loss: 7.1219e-05\n",
            "Epoch 11/50\n",
            "102/102 [==============================] - 9s 87ms/step - loss: 5.0914e-05\n",
            "Epoch 12/50\n",
            "102/102 [==============================] - 10s 96ms/step - loss: 5.3696e-05\n",
            "Epoch 13/50\n",
            "102/102 [==============================] - 10s 98ms/step - loss: 5.1112e-05\n",
            "Epoch 14/50\n",
            "102/102 [==============================] - 10s 99ms/step - loss: 6.1461e-05\n",
            "Epoch 15/50\n",
            "102/102 [==============================] - 10s 97ms/step - loss: 5.0705e-05\n",
            "Epoch 16/50\n",
            "102/102 [==============================] - 10s 100ms/step - loss: 4.5744e-05\n",
            "Epoch 17/50\n",
            "102/102 [==============================] - 9s 91ms/step - loss: 5.4275e-05\n",
            "Epoch 18/50\n",
            "102/102 [==============================] - 9s 91ms/step - loss: 5.4301e-05\n",
            "Epoch 19/50\n",
            "102/102 [==============================] - 9s 90ms/step - loss: 3.9418e-05\n",
            "Epoch 20/50\n",
            "102/102 [==============================] - 9s 89ms/step - loss: 7.3596e-05\n",
            "Epoch 21/50\n",
            "102/102 [==============================] - 9s 87ms/step - loss: 3.5059e-05\n",
            "Epoch 22/50\n",
            "102/102 [==============================] - 9s 88ms/step - loss: 4.3929e-05\n",
            "Epoch 23/50\n",
            "102/102 [==============================] - 9s 85ms/step - loss: 4.3278e-05\n",
            "Epoch 24/50\n",
            "102/102 [==============================] - 9s 88ms/step - loss: 5.1023e-05\n",
            "Epoch 25/50\n",
            "102/102 [==============================] - 9s 89ms/step - loss: 4.3892e-05\n",
            "Epoch 26/50\n",
            "102/102 [==============================] - 9s 89ms/step - loss: 4.2382e-05\n",
            "Epoch 27/50\n",
            "102/102 [==============================] - 9s 90ms/step - loss: 4.1369e-05\n",
            "Epoch 28/50\n",
            "102/102 [==============================] - 9s 89ms/step - loss: 4.5513e-05\n",
            "Epoch 29/50\n",
            "102/102 [==============================] - 9s 88ms/step - loss: 3.7137e-05\n",
            "Epoch 30/50\n",
            "102/102 [==============================] - 9s 87ms/step - loss: 5.7648e-05\n",
            "Epoch 31/50\n",
            "102/102 [==============================] - 9s 90ms/step - loss: 6.1307e-05\n",
            "Epoch 32/50\n",
            "102/102 [==============================] - 9s 90ms/step - loss: 4.1799e-05\n",
            "Epoch 33/50\n",
            "102/102 [==============================] - 9s 90ms/step - loss: 5.0429e-05\n",
            "Epoch 34/50\n",
            "102/102 [==============================] - 10s 97ms/step - loss: 3.9689e-05\n",
            "Epoch 35/50\n",
            "102/102 [==============================] - 11s 104ms/step - loss: 3.7598e-05\n",
            "Epoch 36/50\n",
            "102/102 [==============================] - 10s 95ms/step - loss: 3.8236e-05\n",
            "Epoch 37/50\n",
            "102/102 [==============================] - 9s 92ms/step - loss: 5.6930e-05\n",
            "Epoch 38/50\n",
            "102/102 [==============================] - 10s 93ms/step - loss: 5.1209e-05\n",
            "Epoch 39/50\n",
            "102/102 [==============================] - 9s 93ms/step - loss: 4.0340e-05\n",
            "Epoch 40/50\n",
            "102/102 [==============================] - 9s 92ms/step - loss: 5.0414e-05\n",
            "Epoch 41/50\n",
            "102/102 [==============================] - 9s 90ms/step - loss: 3.8631e-05\n",
            "Epoch 42/50\n",
            "102/102 [==============================] - 9s 90ms/step - loss: 5.3623e-05\n",
            "Epoch 43/50\n",
            "102/102 [==============================] - 9s 90ms/step - loss: 4.8098e-05\n",
            "Epoch 44/50\n",
            "102/102 [==============================] - 9s 90ms/step - loss: 4.1534e-05\n",
            "Epoch 45/50\n",
            "102/102 [==============================] - 9s 88ms/step - loss: 4.5094e-05\n",
            "Epoch 46/50\n",
            "102/102 [==============================] - 9s 89ms/step - loss: 3.3996e-05\n",
            "Epoch 47/50\n",
            "102/102 [==============================] - 9s 89ms/step - loss: 4.2992e-05\n",
            "Epoch 48/50\n",
            "102/102 [==============================] - 9s 90ms/step - loss: 3.7352e-05\n",
            "Epoch 49/50\n",
            "102/102 [==============================] - 9s 91ms/step - loss: 3.6918e-05\n",
            "Epoch 50/50\n",
            "102/102 [==============================] - 9s 90ms/step - loss: 3.1833e-05\n"
          ],
          "name": "stdout"
        }
      ]
    },
    {
      "cell_type": "code",
      "metadata": {
        "id": "R8dj17ceQ6B4",
        "colab": {
          "base_uri": "https://localhost:8080/"
        },
        "outputId": "998fd6ed-69c9-4b26-c2ff-4e791189343a"
      },
      "source": [
        "#plot the loss curve\n",
        "#plt.plot(history.history['loss'])\n",
        "#plt.title('model loss')\n",
        "#plt.ylabel('loss')\n",
        "#plt.xlabel('epoch')\n",
        "#plt.legend(['train'], loc='upper right')\n",
        "#plt.show()"
      ],
      "execution_count": null,
      "outputs": [
        {
          "output_type": "display_data",
          "data": {
            "image/png": "[encoded data removed]",
            "text/plain": [
              "<Figure size 432x288 with 1 Axes>"
            ]
          },
          "metadata": {
            "tags": [],
            "needs_background": "light"
          }
        }
      ]
    },
    {
      "cell_type": "code",
      "metadata": {
        "id": "iqAmnyD6QqtR"
      },
      "source": [
        "#predict the next 500 values\n",
        "predictions = []\n",
        "train2 = train\n",
        "\n",
        "for  i in range(500):\n",
        "  x_train = []\n",
        "\n",
        "  for i in range(200,len(train)):\n",
        "    x_train.append(train[i-200:i, 0])\n",
        "\n",
        "  x_train = np.array(x_train)\n",
        "  x_train = np.reshape(x_train, (x_train.shape[0], x_train.shape[1], 1))\n",
        "  y_test_pred = model.predict(x=x_train[(len(x_train) - 1)::])\n",
        "  predictions.append(y_test_pred[0])\n",
        "  train = np.append(train, y_test_pred, axis=0)\n",
        "\n",
        "#turns predictions into a numpy array and gives it the correct shape\n",
        "predictions = np.array(predictions)\n",
        "predictions = scaler.inverse_transform(predictions)\n",
        "train2 = scaler.inverse_transform(train2)"
      ],
      "execution_count": null,
      "outputs": []
    },
    {
      "cell_type": "code",
      "metadata": {
        "id": "mO-37cjT_cV5",
        "colab": {
          "base_uri": "https://localhost:8080/"
        },
        "outputId": "ee407f43-2c8d-407d-d615-65ff4d14b81c"
      },
      "source": [
        "print(train.shape)\n",
        "print(train2.shape)\n",
        "print(x_train.shape)\n",
        "print(predictions.shape)"
      ],
      "execution_count": null,
      "outputs": [
        {
          "output_type": "stream",
          "text": [
            "(5784, 1)\n",
            "(5284, 1)\n",
            "(5583, 200, 1)\n",
            "(500, 1)\n"
          ],
          "name": "stdout"
        }
      ]
    },
    {
      "cell_type": "code",
      "metadata": {
        "id": "Ezpo7BB9TaTn",
        "colab": {
          "base_uri": "https://localhost:8080/",
          "height": 505
        },
        "outputId": "91e39885-476e-4f92-ee35-6e7241792f13"
      },
      "source": [
        "#plot the data and predictions\n",
        "#train = data[:trainingdata_len]\n",
        "#valid = data[trainingdata_len:]\n",
        "#valid['Predictions'] = predictions\n",
        "#^From S.T.O.N.K.S\n",
        "x2 = range(len(train2), len(predictions) + len(train2))\n",
        "x3 = range(len(train2))\n",
        "plt.figure(figsize=(20,8))\n",
        "plt.plot(x3, train2, label = 'train') #remove this line to take the train data off the graph\n",
        "plt.plot(x2, predictions, label = 'predicted')\n",
        "plt.xlabel('Day', fontsize=18)\n",
        "plt.ylabel('Closing Price', fontsize=18)\n",
        "plt.legend()\n",
        "plt.show()\n"
      ],
      "execution_count": null,
      "outputs": [
        {
          "output_type": "display_data",
          "data": {
            "image/png": "[encoded data removed]",
            "text/plain": [
              "<Figure size 1440x576 with 1 Axes>"
            ]
          },
          "metadata": {
            "tags": [],
            "needs_background": "light"
          }
        }
      ]
    }
  ]
}